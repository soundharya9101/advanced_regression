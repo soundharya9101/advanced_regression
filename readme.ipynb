{
 "cells": [
  {
   "cell_type": "markdown",
   "id": "b71f6846",
   "metadata": {},
   "source": [
    "### Determining the Housing Prices in Australia - Lasso and Ridge Regression"
   ]
  },
  {
   "cell_type": "markdown",
   "id": "aacfa391",
   "metadata": {},
   "source": [
    "In this case study, we have been identified by Surprise Housing, an US based housing company which uses data analytics to purchase houses at a price below their actual values and flip them at a higher price.\n",
    "<br>\n",
    "<br>Background: The company wants to enter the Australian Market and hence are looking at prospective properties to buy. They want to understand what are the factors affecting the prices and how exactly are those factors influencing it. The company would then manipulate the strategy of the firm and concentrate on areas that will yield high return.\n",
    "<br>\n",
    "<br>Problem Statement: We need to build a regression model using regularisation in order to predict the actual value of the prospective properties and guide the company in making the best decision."
   ]
  }
 ],
 "metadata": {
  "kernelspec": {
   "display_name": "Python 3 (ipykernel)",
   "language": "python",
   "name": "python3"
  },
  "language_info": {
   "codemirror_mode": {
    "name": "ipython",
    "version": 3
   },
   "file_extension": ".py",
   "mimetype": "text/x-python",
   "name": "python",
   "nbconvert_exporter": "python",
   "pygments_lexer": "ipython3",
   "version": "3.9.12"
  }
 },
 "nbformat": 4,
 "nbformat_minor": 5
}
